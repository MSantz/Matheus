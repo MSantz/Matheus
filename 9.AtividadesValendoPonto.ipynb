{
 "cells": [
  {
   "cell_type": "code",
   "execution_count": null,
   "metadata": {},
   "outputs": [],
   "source": [
    "#Slide 88#\n",
    "#Calcular a média final dos alunos que fizeram 2 provas (70%) e um trabalho (30%).#\n",
    "\n",
    "p1 = float(input(\"Insira a nota da 1º Prova: \"))\n",
    "p2 = float(input(\"Insira a nota da 2º Prova: \"))\n",
    "trab = float(input(\"Insira a nota do Trabalho: \"))\n",
    "\n",
    "provas = (p1+p2)*0.7\n",
    "trabalho = trab*0.3\n",
    "\n",
    "mediaf = (provas+trabalho)/2\n",
    "print(\"A média deste aluno é: {:2f}\".format(mediaf))\n",
    "\n"
   ]
  },
  {
   "cell_type": "code",
   "execution_count": null,
   "metadata": {},
   "outputs": [],
   "source": [
    "#Slide 94#\n",
    "#Dado um ângulo pelo usuário, calcule o quadrante do ciclo trigonoétrico do mesmo.#\n",
    "\n",
    "import math\n",
    "\n",
    "angulo = float(input(\"Digite o valor do ângulo em graus: \"))\n",
    "\n",
    "# Converter o ângulo de graus para radianos\n",
    "angulo_radianos = math.radians(angulo)\n",
    "\n",
    "# Verificar em qual quadrante o ângulo se encontra\n",
    "if angulo_radianos >= 0 and angulo_radianos < math.pi/2:\n",
    "    print(\"O ângulo está no primeiro quadrante.\")\n",
    "elif angulo_radianos >= math.pi/2 and angulo_radianos < math.pi:\n",
    "    print(\"O ângulo está no segundo quadrante.\")\n",
    "elif angulo_radianos >= math.pi and angulo_radianos < 3*math.pi/2:\n",
    "    print(\"O ângulo está no terceiro quadrante.\")\n",
    "elif angulo_radianos >= 3*math.pi/2 and angulo_radianos < 2*math.pi:\n",
    "    print(\"O ângulo está no quarto quadrante.\")\n",
    "else:\n",
    "    print(\"O ângulo inserido não está dentro do intervalo de 0 a 360 graus.\")"
   ]
  },
  {
   "cell_type": "code",
   "execution_count": null,
   "metadata": {},
   "outputs": [],
   "source": [
    "#Slide 102#\n",
    "#Escreva um programa na linguagem python que calcule a soma de todos os elementos de uma progressão aritmética (P.A.) que inicia em 2, e não tem valores maiores que 100, com razão igual a 3.#\n",
    "\n",
    "a1 = 2\n",
    "razao = 3\n",
    "soma = 0\n",
    "\n",
    "while a1 <= 100:\n",
    "    soma += a1\n",
    "    a1 += razao\n",
    "\n",
    "print(f\"A soma dos elementos da P.A. é: {soma}\")"
   ]
  },
  {
   "cell_type": "code",
   "execution_count": null,
   "metadata": {},
   "outputs": [],
   "source": [
    "#Slide 105#\n",
    "#Escreva um programa na linguagem python em que o professor digite as notas de uma turma de alunos e as guarda em uma lista. Ao final, é calculada a média da turma, que é escrita na tela. No início, o professor entra com a quantidade de alunos.#\n",
    "\n",
    "quantidade_alunos = int(input(\"Digite a quantidade de alunos na turma: \"))\n",
    "notas = []\n",
    "\n",
    "for i in range(quantidade_alunos):\n",
    "    nota = float(input(f\"Digite a nota do aluno {i+1}: \"))\n",
    "    notas.append(nota)\n",
    "\n",
    "media_turma = sum(notas) / len(notas)\n",
    "\n",
    "print(f\"A média da turma é: {media_turma:.2f}\")"
   ]
  },
  {
   "cell_type": "code",
   "execution_count": null,
   "metadata": {},
   "outputs": [],
   "source": [
    "#Slide 109#\n",
    "#Escreva um programa na linguagem python em, que leia uma matriz de inteiros 3x3 e calcule a soma da sua diagonal principal.#\n",
    "\n",
    "matriz = []\n",
    "soma_diagonal = 0\n",
    "\n",
    "for i in range(3):\n",
    "    linha = []\n",
    "    for j in range(3):\n",
    "        valor = int(input(f\"Digite o valor para a posição [{i+1}][{j+1}]: \"))\n",
    "        linha.append(valor)\n",
    "        if i == j:\n",
    "            soma_diagonal += valor\n",
    "    matriz.append(linha)\n",
    "\n",
    "print(\"Matriz:\")\n",
    "for linha in matriz:\n",
    "    print(linha)\n",
    "\n",
    "print(f\"Soma da diagonal principal: {soma_diagonal}\")"
   ]
  },
  {
   "cell_type": "code",
   "execution_count": null,
   "metadata": {},
   "outputs": [],
   "source": []
  }
 ],
 "metadata": {
  "language_info": {
   "name": "python"
  },
  "orig_nbformat": 4
 },
 "nbformat": 4,
 "nbformat_minor": 2
}
