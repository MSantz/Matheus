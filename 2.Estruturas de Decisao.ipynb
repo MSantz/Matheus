{
 "cells": [
  {
   "cell_type": "markdown",
   "metadata": {},
   "source": [
    "# Formação Cientista de Dados \n",
    "Estruturas de Decisão"
   ]
  },
  {
   "cell_type": "code",
   "execution_count": 8,
   "metadata": {},
   "outputs": [
    {
     "name": "stdout",
     "output_type": "stream",
     "text": [
      "Sua última nota é: 8\n",
      "Seu status: Aprovado\n",
      "Parabéns!\n"
     ]
    }
   ],
   "source": [
    "nota = 8;\n",
    "if nota >= 7:\n",
    "\tprint(\"Sua última nota é: {}\".format(nota))\n",
    "\tprint(\"Seu status: Aprovado\")\n",
    "\tprint(\"Parabéns!\")\n",
    "else:\n",
    "\tprint(\"1infelizmente você foi Reprovado, mas não desista.\")"
   ]
  },
  {
   "cell_type": "code",
   "execution_count": 9,
   "metadata": {},
   "outputs": [
    {
     "name": "stdout",
     "output_type": "stream",
     "text": [
      "Sinto muito, mas você foi Reprovado.\n"
     ]
    }
   ],
   "source": [
    "#só mudar o valor da variável\n",
    "nota = 4\n",
    "if nota >= 7:\n",
    "\tprint(\"Parabéns, você foi Aprovado\")\n",
    "else:\n",
    "\tprint(\"Sinto muito, mas você foi Reprovado.\")"
   ]
  },
  {
   "cell_type": "code",
   "execution_count": 10,
   "metadata": {},
   "outputs": [
    {
     "name": "stdout",
     "output_type": "stream",
     "text": [
      "Exame\n"
     ]
    }
   ],
   "source": [
    "#Testar com 4,5 e 7\n",
    "nota = 5\n",
    "if nota <= 4:\n",
    "\tprint(\"Reprovado\")\n",
    "elif nota > 4 and nota <=6:\n",
    "\tprint(\"Exame\")\n",
    "else:\n",
    "\tprint(\"Aprovado\")\n"
   ]
  },
  {
   "cell_type": "code",
   "execution_count": null,
   "metadata": {},
   "outputs": [],
   "source": []
  }
 ],
 "metadata": {
  "kernelspec": {
   "display_name": "Python 3",
   "language": "python",
   "name": "python3"
  },
  "language_info": {
   "codemirror_mode": {
    "name": "ipython",
    "version": 3
   },
   "file_extension": ".py",
   "mimetype": "text/x-python",
   "name": "python",
   "nbconvert_exporter": "python",
   "pygments_lexer": "ipython3",
   "version": "3.10.4"
  }
 },
 "nbformat": 4,
 "nbformat_minor": 4
}
